{
 "cells": [
  {
   "cell_type": "code",
   "execution_count": null,
   "metadata": {},
   "outputs": [],
   "source": [
    "orderbook = pd.read_csv(\"lobster/level10/AAPL_2012-06-21_34200000_57600000_orderbook_10.csv\")\n",
    "orderbook"
   ]
  },
  {
   "cell_type": "code",
   "execution_count": null,
   "metadata": {},
   "outputs": [],
   "source": [
    "message = pd.read_csv(\"lobster/level10/AAPL_2012-06-21_34200000_57600000_message_10.csv\")\n",
    "message"
   ]
  },
  {
   "cell_type": "code",
   "execution_count": null,
   "metadata": {},
   "outputs": [],
   "source": [
    "print(\"max\")\n",
    "a = orderbook['a10'].max()\n",
    "print(a/100)\n",
    "a = message['price'].max()\n",
    "print(a/100)\n",
    "\n",
    "\n",
    "print(\"min\")\n",
    "b = orderbook['b10'].min()\n",
    "print(b/100)\n",
    "b = message['price'].min()\n",
    "print(b/100)\n",
    "    \n",
    "\n",
    "#overall maximum and minimum are there in the order book and not in message file\n"
   ]
  },
  {
   "cell_type": "code",
   "execution_count": null,
   "metadata": {},
   "outputs": [],
   "source": [
    "59000-57000\n",
    "# we will fix our vector range of values here"
   ]
  },
  {
   "cell_type": "code",
   "execution_count": null,
   "metadata": {},
   "outputs": [],
   "source": [
    "vector = [0]*2001\n",
    "\n",
    "x = {}\n",
    "for i in range(5700000,5900000,100) :\n",
    "    x[str(i)] = 0\n",
    "\n",
    "\n"
   ]
  },
  {
   "cell_type": "code",
   "execution_count": null,
   "metadata": {},
   "outputs": [],
   "source": [
    "# for i in range (len(message)) :\n",
    "#     type = message['type'].iloc[i]\n",
    "#     price = message['price'].iloc[i]\n",
    "#     id = message['id'].iloc[i]\n",
    "#     qty = message['quantity'].iloc[i]\n",
    "#     dir = message['direction'].iloc[i]\n",
    "    \n",
    "#     if(type == 1) :\n",
    "#         if(dir == 1) :\n",
    "#             price/=100\n",
    "#             price-=57000\n",
    "#             vector[price] -= 1\n",
    "#         if(dir == -1) :\n",
    "#             price/=100\n",
    "#             price-=57000\n",
    "#             vector[price] += 1\n",
    "#     if(type == 2) :\n",
    "#         if(dir == 1) :\n",
    "#             price/=100\n",
    "#             price-=57000\n",
    "#             vector[price] -= 1\n",
    "#         if(dir == -1) :\n",
    "#             price/=100\n",
    "#             price-=57000\n",
    "#             vector[price] += 1\n",
    "\n",
    "\n",
    "    \n",
    "\n",
    "\n"
   ]
  },
  {
   "cell_type": "markdown",
   "metadata": {},
   "source": [
    "# for lobster from here\n",
    "\n",
    "#add the quantity feature here, develop the id for this"
   ]
  },
  {
   "cell_type": "code",
   "execution_count": null,
   "metadata": {},
   "outputs": [],
   "source": [
    "def update_vector(x, order_type, p, PA, PB):\n",
    "\n",
    "    #AS PER INDEX SAMPLE TRANSFORMATION\n",
    "    p_index = int( p/100 -57000)\n",
    "    pa_index = int(PA/100 -57000)\n",
    "    pb_index = int(PB/100 -57000)\n",
    "\n",
    "    \n",
    "    if order_type == 1:  # Limit buy order at price p < PA\n",
    "        if p < PA:\n",
    "            x[p_index] -= 1\n",
    "        else :\n",
    "            # if any buy limit order comes without following the condition that p<PA, then that will be treated as market order\n",
    "            x[pa_index] -= 1\n",
    "\n",
    "\n",
    "    elif order_type == 2:  # Limit sell order at price p > PB\n",
    "        if p > PB:\n",
    "            x[p_index] += 1\n",
    "        else : \n",
    "            # if any sell limit order comes without following the condition that p>PB, then that will be treated as market order\n",
    "            x[pb_index] += 1    \n",
    "\n",
    "    elif order_type == 3:  # Market buy order at ask price PA\n",
    "        x[pa_index] -= 1\n",
    "\n",
    "    elif order_type == 4:  # Market sell order at bid price PB\n",
    "        x[pb_index] += 1\n",
    "\n",
    "    elif order_type == 5:  # Cancellation of a buy order at price p < PA\n",
    "        if p < PA and  x[p_index] <0:\n",
    "            x[p_index] += 1\n",
    "\n",
    "    elif order_type == 6:  # Cancellation of a sell order at price p > PB\n",
    "        if p > PB and  x[p_index] >0:\n",
    "            x[p_index] -= 1\n",
    "\n",
    "\n",
    "    return x\n",
    "\n",
    "\n",
    "        "
   ]
  },
  {
   "cell_type": "code",
   "execution_count": null,
   "metadata": {},
   "outputs": [],
   "source": [
    "\n",
    "\n",
    "\n",
    "# message CSV contains this order details\n",
    "# for sample lets take : 1 is limit buy\n",
    "#                         2 is limit sell \n",
    "#                         3 is market buy\n",
    "#                         4 is market sell\n",
    "#                         5 is cancelling a buy \n",
    "#                         6 is cancelling a sell\n",
    "\n",
    "\n",
    "# for example prices are between 5700000 to 5800000, with each tick being 100, \n",
    "# then we have total 200000/100 = 2000 different ticks with 0th tick representing price 5700000, 1st tick -> 5700100\n",
    "# --> tick_size = 100\n",
    "\n",
    "# thus tick  = price/100 - 57000 \n",
    "\n",
    "\n",
    "#  vector\n",
    "x = [0]*2000\n",
    "\n",
    "for i in range(len(message)) :\n",
    "    type = message['type'][i]\n",
    "    p =  message['price'][i]\n",
    "    pa = orderbook['a1'][i]\n",
    "    pb = orderbook['b1'][i]\n",
    "    x = update_vector (x, type, p, pa, pb)\n",
    "\n",
    "\n",
    "print(x)\n",
    "\n",
    "\n",
    "\n"
   ]
  }
 ],
 "metadata": {
  "language_info": {
   "name": "python"
  }
 },
 "nbformat": 4,
 "nbformat_minor": 2
}
